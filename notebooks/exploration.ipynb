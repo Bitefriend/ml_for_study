{
 "cells": [
  {
   "cell_type": "markdown",
   "id": "e8c21a2a",
   "metadata": {},
   "source": [
    "데이터 불러오기"
   ]
  },
  {
   "cell_type": "code",
   "execution_count": 3,
   "id": "2c63b5d2",
   "metadata": {},
   "outputs": [
    {
     "name": "stdout",
     "output_type": "stream",
     "text": [
      "train data info:\n",
      "<class 'pandas.core.frame.DataFrame'>\n",
      "RangeIndex: 6995056 entries, 0 to 6995055\n",
      "Data columns (total 3 columns):\n",
      " #   Column  Dtype \n",
      "---  ------  ----- \n",
      " 0   ID      object\n",
      " 1   URL     object\n",
      " 2   label   int64 \n",
      "dtypes: int64(1), object(2)\n",
      "memory usage: 160.1+ MB\n",
      "\n",
      "test data info:\n",
      "<class 'pandas.core.frame.DataFrame'>\n",
      "RangeIndex: 1747689 entries, 0 to 1747688\n",
      "Data columns (total 2 columns):\n",
      " #   Column  Dtype \n",
      "---  ------  ----- \n",
      " 0   ID      object\n",
      " 1   URL     object\n",
      "dtypes: object(2)\n",
      "memory usage: 26.7+ MB\n"
     ]
    }
   ],
   "source": [
    "import pandas as pd\n",
    "\n",
    "# 학습 데이터 불러오기\n",
    "train_df = pd.read_csv('../data/raw/train.csv')\n",
    "\n",
    "# 테스트 데이터 불러오기\n",
    "test_df = pd.read_csv('../data/raw/test.csv')\n",
    "\n",
    "# 기본 정보 확인\n",
    "print(\"train data info:\")\n",
    "train_df.info()\n",
    "\n",
    "print(\"\\ntest data info:\")\n",
    "test_df.info()\n"
   ]
  },
  {
   "cell_type": "markdown",
   "id": "e8c6bddb",
   "metadata": {},
   "source": [
    "결측치 확인"
   ]
  },
  {
   "cell_type": "code",
   "execution_count": 4,
   "id": "8fe13710",
   "metadata": {},
   "outputs": [
    {
     "data": {
      "text/plain": [
       "ID     0\n",
       "URL    0\n",
       "dtype: int64"
      ]
     },
     "execution_count": 4,
     "metadata": {},
     "output_type": "execute_result"
    }
   ],
   "source": [
    "# 각 컬럼별 결측치 개수 확인\n",
    "train_df.isnull().sum()\n",
    "\n",
    "# 각 컬럼별 결측치 개수 확인\n",
    "test_df.isnull().sum()"
   ]
  },
  {
   "cell_type": "markdown",
   "id": "48f961ac",
   "metadata": {},
   "source": [
    "#### URL 문자열 분석"
   ]
  },
  {
   "cell_type": "code",
   "execution_count": 6,
   "id": "8282c490",
   "metadata": {},
   "outputs": [
    {
     "name": "stdout",
     "output_type": "stream",
     "text": [
      "Train URL 길이 통계:\n",
      " count    6.995056e+06\n",
      "mean     2.741918e+01\n",
      "std      3.563130e+01\n",
      "min      2.000000e+00\n",
      "25%      1.600000e+01\n",
      "50%      2.000000e+01\n",
      "75%      2.900000e+01\n",
      "max      8.396000e+03\n",
      "Name: url_length, dtype: float64\n",
      "\n",
      "Test URL 길이 통계:\n",
      " count    1.747689e+06\n",
      "mean     2.739885e+01\n",
      "std      3.526333e+01\n",
      "min      2.000000e+00\n",
      "25%      1.600000e+01\n",
      "50%      2.000000e+01\n",
      "75%      2.900000e+01\n",
      "max      5.797000e+03\n",
      "Name: url_length, dtype: float64\n"
     ]
    }
   ],
   "source": [
    "# 1. URL 길이 통계 분석\n",
    "\n",
    "# train_df와 test_df의 URL 길이 컬럼 생성\n",
    "train_df['url_length'] = train_df['URL'].str.len()\n",
    "test_df['url_length'] = test_df['URL'].str.len()\n",
    "\n",
    "# URL 길이 통계를 확인\n",
    "print(\"Train URL 길이 통계:\\n\", train_df['url_length'].describe())\n",
    "print(\"\\nTest URL 길이 통계:\\n\", test_df['url_length'].describe())"
   ]
  },
  {
   "cell_type": "code",
   "execution_count": 8,
   "id": "7df450be",
   "metadata": {},
   "outputs": [
    {
     "name": "stdout",
     "output_type": "stream",
     "text": [
      "정상 URL 길이 통계:\n",
      " count    5.430159e+06\n",
      "mean     2.096458e+01\n",
      "std      1.123695e+01\n",
      "min      2.000000e+00\n",
      "25%      1.500000e+01\n",
      "50%      1.900000e+01\n",
      "75%      2.400000e+01\n",
      "max      8.320000e+02\n",
      "Name: url_length, dtype: float64\n",
      "\n",
      "정상 URL 길이 통계:\n",
      " count    1.564897e+06\n",
      "mean     4.981650e+01\n",
      "std      6.775459e+01\n",
      "min      2.000000e+00\n",
      "25%      2.500000e+01\n",
      "50%      3.400000e+01\n",
      "75%      5.000000e+01\n",
      "max      8.396000e+03\n",
      "Name: url_length, dtype: float64\n"
     ]
    }
   ],
   "source": [
    "# 2. 레이블별 URL 길이 분포 비교\n",
    "\n",
    "# 악성(label=1)과 정상(label=0) URL의 길이 통계 비교\n",
    "print(\"정상 URL 길이 통계:\\n\", train_df[train_df['label'] == 0]['url_length'].describe())\n",
    "print(\"\\n정상 URL 길이 통계:\\n\", train_df[train_df['label'] == 1]['url_length'].describe())"
   ]
  },
  {
   "cell_type": "markdown",
   "id": "3703f28f",
   "metadata": {},
   "source": [
    "다음 단계: URL 구조 통계 분석"
   ]
  },
  {
   "cell_type": "code",
   "execution_count": null,
   "id": "db522faf",
   "metadata": {},
   "outputs": [],
   "source": [
    "# # 1. URL 파싱(Parsing)\n",
    "\n",
    "# import urllib.parse as urlparse # URL을 분석하고 조작하는 도구\n",
    "\n",
    "# # URL 파싱하는 함수 생성\n",
    "# def parse_url(url):\n",
    "#     try:\n",
    "#         # http:// 프로토콜이 없는 경우, 강제로 추가\n",
    "#         if not urlparse.urlparse(url).scheme:\n",
    "#             url = 'http://' + url\n",
    "\n",
    "#         parsed_url = urlparse.urlparse(url)  # URL을 구성 요소별로 분해하는 핵심 함수\n",
    "#         return {\n",
    "#             'scheme': parsed_url.scheme,     # http, https 같은 통신 규약 (프로토콜)\n",
    "#             'netloc': parsed_url.netloc,     # 도메인 (www.example.com)\n",
    "#             'path': parsed_url.path,         # 파일 또는 경로 (/path/to/file)\n",
    "#             'params': parsed_url.params,     # 경로 뒤에 붙는 파라미터 (예: /path;params=value)\n",
    "#             'query': parsed_url.query,       # ? 뒤에 붙는 파라미터 (예: ?id=123&key=value)\n",
    "#             'fragment': parsed_url.fragment  # # 뒤에 붙는 앵커 (예: #section)\n",
    "#         }\n",
    "#     except Exception:\n",
    "#         return {} # 파싱 실패 시 빈 딕셔너리 반환\n",
    "\n",
    "# # train_df와 test_df에 파싱 결과를 적용\n",
    "# train_parsed = train_df['URL'].apply(parse_url)\n",
    "# test_parsed = test_df['URL'].apply(parse_url)\n",
    "\n",
    "\n",
    "# # 호스트와 경로 길이를 새로운 컬럼으로 추가\n",
    "# train_df['host_length'] = train_parsed.apply(lambda x: len(x.get('netloc', '')))\n",
    "# train_df['path_length'] = train_parsed.apply(lambda x: len(x.get('path', '')))\n",
    "\n",
    "# # 호스트 길이 통계를 레이블별로 비교\n",
    "# print(\"정상 URL 호스트 길이 통계:\\n\", train_df[train_df['label'] == 0]['host_length'].describe())\n",
    "# print(\"\\n악성 URL 호스트 길이 통계:\\n\", train_df[train_df['label'] == 1]['host_length'].describe())\n",
    "\n",
    "# # 경로 길이 통계를 레이블별로 비교\n",
    "# print(\"정상 URL 경로 길이 통계:\\n\", train_df[train_df['label'] == 0]['path_length'].describe())\n",
    "# print(\"\\n악성 URL 경로 길이 통계:\\n\", train_df[train_df['label'] == 1]['path_length'].describe())"
   ]
  },
  {
   "cell_type": "code",
   "execution_count": null,
   "id": "a027e44f",
   "metadata": {},
   "outputs": [
    {
     "name": "stderr",
     "output_type": "stream",
     "text": [
      "/usr/local/lib/python3.12/site-packages/swifter/swifter.py:307: UserWarning: Axis keyword not necessary because applying on a Series.\n",
      "  warnings.warn(\"Axis keyword not necessary because applying on a Series.\")\n"
     ]
    },
    {
     "data": {
      "application/vnd.jupyter.widget-view+json": {
       "model_id": "2f8d7cbd893f4b089ad3c0b863f39b47",
       "version_major": 2,
       "version_minor": 0
      },
      "text/plain": [
       "Pandas Apply:   0%|          | 0/6995056 [00:00<?, ?it/s]"
      ]
     },
     "metadata": {},
     "output_type": "display_data"
    }
   ],
   "source": [
    "import swifter\n",
    "from urlextract import URLExtract\n",
    "import urllib.parse as urlparse\n",
    "import pandas as pd\n",
    "\n",
    "# urlextract 객체 생성\n",
    "extractor = URLExtract()\n",
    "\n",
    "# URL에서 호스트와 경로를 추출하는 함수\n",
    "def extract_url_parts(url):\n",
    "    try:\n",
    "        urls = extractor.find_urls(url)\n",
    "        if urls:\n",
    "            parsed = urlparse.urlparse(\"http://\" + urls[0])\n",
    "            # 두 값을 튜플로 반환\n",
    "            return parsed.netloc, parsed.path\n",
    "        return '', ''\n",
    "    except TypeError:\n",
    "        return '', ''\n",
    "\n",
    "# swifter를 사용하여 데이터프레임에 적용하고 결과를 새로운 컬럼에 할당\n",
    "# train_df[['host', 'path']] = train_df['URL'].swifter.apply(extract_url_parts, result_type='expand')\n",
    "# 이 코드를 아래처럼 수정해줘\n",
    "train_df[['host', 'path']] = train_df['URL'].swifter.apply(extract_url_parts,\n",
    "                                                            axis=1, # Series의 경우, axis=1를 사용\n",
    "                                                            # result_type 인자 삭제\n",
    "                                                           ).apply(pd.Series)\n",
    "\n",
    "\n",
    "# 이제 'host'와 'path' 컬럼을 기반으로 길이 계산\n",
    "train_df['host_length'] = train_df['host'].str.len()\n",
    "train_df['path_length'] = train_df['path'].str.len()\n",
    "\n",
    "# 호스트 길이 통계를 레이블별로 비교\n",
    "print(\"정상 URL 호스트 길이 통계:\\n\", train_df[train_df['label'] == 0]['host_length'].describe())\n",
    "print(\"\\n악성 URL 호스트 길이 통계:\\n\", train_df[train_df['label'] == 1]['host_length'].describe())\n",
    "\n",
    "# 경로 길이 통계를 레이블별로 비교\n",
    "print(\"\\n정상 URL 경로 길이 통계:\\n\", train_df[train_df['label'] == 0]['path_length'].describe())\n",
    "print(\"\\n악성 URL 경로 길이 통계:\\n\", train_df[train_df['label'] == 1]['path_length'].describe())"
   ]
  },
  {
   "cell_type": "code",
   "execution_count": null,
   "id": "a6968aaa",
   "metadata": {},
   "outputs": [],
   "source": []
  },
  {
   "cell_type": "code",
   "execution_count": null,
   "id": "d34a8d58",
   "metadata": {},
   "outputs": [],
   "source": []
  }
 ],
 "metadata": {
  "kernelspec": {
   "display_name": "Python 3",
   "language": "python",
   "name": "python3"
  },
  "language_info": {
   "codemirror_mode": {
    "name": "ipython",
    "version": 3
   },
   "file_extension": ".py",
   "mimetype": "text/x-python",
   "name": "python",
   "nbconvert_exporter": "python",
   "pygments_lexer": "ipython3",
   "version": "3.12.11"
  }
 },
 "nbformat": 4,
 "nbformat_minor": 5
}
